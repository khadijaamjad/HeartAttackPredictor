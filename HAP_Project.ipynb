{
 "cells": [
  {
   "cell_type": "code",
   "execution_count": null,
   "metadata": {},
   "outputs": [],
   "source": [
    "import numpy as np\n",
    "import matplotlib.pyplot as plt\n",
    "import pandas as pd\n",
    "import seaborn as seabornInstance\n",
    "from sklearn.model_selection import train_test_split\n",
    "from sklearn.linear_model import LinearRegression\n",
    "from sklearn.preprocessing import StandardScaler\n",
    "from sklearn.tree import DecisionTreeClassifier\n",
    "from sklearn.neighbors import KNeighborsClassifier\n",
    "from sklearn.naive_bayes import GaussianNB\n",
    "from sklearn.cluster import KMeans\n",
    "from sklearn import preprocessing\n",
    "from sklearn import metrics\n",
    "%matplotlib inline\n",
    "\n",
    "dataset = pd.read_csv('')\n",
    "print(\"Welcome!\")\n",
    "while True:\n",
    "    print(\"What do you want to do? \\n1-Accuracy & Prediction\\n2-Relational Diagrams\\n3-Exit\");\n",
    "    func=int(input());\n",
    "    if(func==1):\n",
    "        print(\"Please select the algorithm you'd want to implement.\")\n",
    "        print(\"1-Regression\\t2-Decision Tree \\t3-Naive Bayes \\t4-KNN \\t5-Neural Network \\t6-K-Means Clustering\");\n",
    "        choice=int(input());\n",
    "        if(choice==1):\n",
    "            print(\"Regression:\");\n",
    "        elif(choice==2):\n",
    "            \n",
    "        elif(choice==3):\n",
    "            print(\"Naive Bayes:\");\n",
    "            \n",
    "        elif(choice==4):\n",
    "            print(\"KNN:\");\n",
    "            \n",
    "        elif(choice==5):\n",
    "            print(\"Neural network algo here\");\n",
    "            \n",
    "        elif(choice==6):\n",
    "            print(\"K-Means algo here\");\n",
    "           \n",
    "        else:\n",
    "            print(\"Invalid option\");\n",
    "    elif(func==2):\n",
    "        print(\"Please select the diagram you want to create.\")\n",
    "        print(\"1-Graph b/w two variables\")\n",
    "        print(\"2-Bar Graph\")\n",
    "        print(\"3-Boxplot \")\n",
    "        ans=int(input());\n",
    "        if(ans==1):\n",
    "           \n",
    "        elif(ans==2):\n",
    "            print(\"Bar graph:\");           \n",
    "        elif(ans==3):\n",
    "            print(\"Boxplot:\");\n",
    "    else:\n",
    "        break;"
   ]
  }
 ],
 "metadata": {
  "kernelspec": {
   "display_name": "Python 3",
   "language": "python",
   "name": "python3"
  },
  "language_info": {
   "codemirror_mode": {
    "name": "ipython",
    "version": 3
   },
   "file_extension": ".py",
   "mimetype": "text/x-python",
   "name": "python",
   "nbconvert_exporter": "python",
   "pygments_lexer": "ipython3",
   "version": "3.7.6"
  }
 },
 "nbformat": 4,
 "nbformat_minor": 4
}
